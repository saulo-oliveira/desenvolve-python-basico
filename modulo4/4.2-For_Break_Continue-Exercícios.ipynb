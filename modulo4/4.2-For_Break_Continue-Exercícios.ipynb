{
  "cells": [
    {
      "cell_type": "markdown",
      "id": "29e89030",
      "metadata": {
        "id": "29e89030"
      },
      "source": [
        "# Módulo 4 - Repetições\n",
        "\n",
        "## Aulas 4.2 - Comando ```for``` e 4.3 Break e Continue"
      ]
    },
    {
      "cell_type": "markdown",
      "id": "a45b42df",
      "metadata": {
        "id": "a45b42df"
      },
      "source": [
        "### Q1.\n",
        "\n",
        "Crie um programa em Python que utilize o comando for para imprimir os números de 10 a 1, em ordem decrescente."
      ]
    },
    {
      "cell_type": "code",
      "execution_count": null,
      "id": "55a75b3d",
      "metadata": {
        "colab": {
          "base_uri": "https://localhost:8080/"
        },
        "id": "55a75b3d",
        "outputId": "a8bcb8f8-9f18-4c6e-e260-bd4329134179"
      },
      "outputs": [
        {
          "output_type": "stream",
          "name": "stdout",
          "text": [
            "10\n",
            "9\n",
            "8\n",
            "7\n",
            "6\n",
            "5\n",
            "4\n",
            "3\n",
            "2\n",
            "1\n"
          ]
        }
      ],
      "source": [
        "for i in range(10, 0, -1):\n",
        "  print(i)"
      ]
    },
    {
      "cell_type": "markdown",
      "id": "94b47c36",
      "metadata": {
        "id": "94b47c36"
      },
      "source": [
        "### Q2.\n",
        "\n",
        "Dado um número inteiro positivo informado pelo usuário, crie um programa em Python que utilize o comando for para calcular e exibir a soma dos números de 1 até o número informado. Ou seja, $1 + 2 + 3 + ... + n$\n",
        "\n",
        "Exemplo de interação:\n",
        "```\n",
        "Digite um número: 5\n",
        "A soma dos números de 1 a 5 é 15\n",
        "```\n"
      ]
    },
    {
      "cell_type": "code",
      "execution_count": null,
      "id": "45b71596",
      "metadata": {
        "colab": {
          "base_uri": "https://localhost:8080/"
        },
        "id": "45b71596",
        "outputId": "252d5a43-47ef-4868-fdb6-2327eeff7894"
      },
      "outputs": [
        {
          "output_type": "stream",
          "name": "stdout",
          "text": [
            "Digite o numero desejado: 5\n",
            "0\n",
            "1\n",
            "3\n",
            "6\n",
            "10\n",
            "A soma dos numeros de 1 a 5 é: 15\n"
          ]
        }
      ],
      "source": [
        "numero = int(input(\"Digite o numero desejado: \"))\n",
        "soma = 0\n",
        "for i in range(1, numero+1):\n",
        "  print(soma)\n",
        "  soma += i\n",
        "\n",
        "print(f\"A soma dos numeros de 1 a {numero} é: {soma}\")"
      ]
    },
    {
      "cell_type": "markdown",
      "id": "0411d170",
      "metadata": {
        "id": "0411d170"
      },
      "source": [
        "### Q3.\n",
        "\n",
        "Escreva um programa que lê 10 valores inteiros positivos do usuário e ao final imprime a média dos valores digitados com duas casas decimais.\n",
        "\n",
        "```\n",
        "Digite 10 números positivos:\n",
        "3\n",
        "2\n",
        "12\n",
        "14\n",
        "20\n",
        "42\n",
        "19\n",
        "0\n",
        "8\n",
        "1\n",
        "A média dos valores digitados é 12.10\n",
        "```"
      ]
    },
    {
      "cell_type": "code",
      "execution_count": null,
      "id": "3f72f358",
      "metadata": {
        "colab": {
          "base_uri": "https://localhost:8080/"
        },
        "id": "3f72f358",
        "outputId": "12989298-d587-4bd6-b7d6-24e936ec9944"
      },
      "outputs": [
        {
          "output_type": "stream",
          "name": "stdout",
          "text": [
            "Digite o valor: 3\n",
            "Digite o valor: 2\n",
            "Digite o valor: 12\n",
            "Digite o valor: 14\n",
            "Digite o valor: 20\n",
            "Digite o valor: 42\n",
            "Digite o valor: 19\n",
            "Digite o valor: 0\n",
            "Digite o valor: 8\n",
            "Digite o valor: 1\n",
            "A média dos valores digitados é 12.10\n"
          ]
        }
      ],
      "source": [
        "soma = 0\n",
        "for i in range(10]):\n",
        "  numero = int(input(\"Digite o valor: \"))\n",
        "  soma += numero\n",
        "\n",
        "media = float(soma/10)\n",
        "print(f\"A média dos valores digitados é {media:.2f}\")\n",
        "\n"
      ]
    },
    {
      "cell_type": "markdown",
      "id": "d62e27ff",
      "metadata": {
        "id": "d62e27ff"
      },
      "source": [
        "### Q4.\n",
        "\n",
        "Você vai criar um sistema que registra os resultados dos jogos do Atlético MG ao longo de um campeonato. Seu sistema vai receber os resultados de todos os jogos do Galo, e deve calcular a pontuação do time sabendo que vitórias valem 3 pontos, empates 1 ponto e derrotas 0 pontos.\n",
        "\n",
        "Entrada: <br>\n",
        "A primeira linha de entrada é um inteiro N com a quantidade jogos do galo. Para cada jogo você deve ler 2 inteiros, o primeiro com a quantidade de gols do galo e o segundo com a quantidade de gols do time oponente.\n",
        "\n",
        "Saída: <br>\n",
        "Apresente a soma de vitórias, empates e derrotas do galo, junto com o cálculo da pontuação total.\n",
        "\n",
        "Ex:\n",
        "```\n",
        "Entrada:\n",
        "4\n",
        "2\n",
        "0\n",
        "1\n",
        "1\n",
        "0\n",
        "3\n",
        "1\n",
        "0\n",
        "\n",
        "Saída:\n",
        "Vitórias: 2\n",
        "Empates: 1\n",
        "Derrotas: 1\n",
        "Pontuação: 7\n",
        "\n",
        "```\n",
        "\n",
        "\n"
      ]
    },
    {
      "cell_type": "code",
      "execution_count": null,
      "id": "d3fdfc2a",
      "metadata": {
        "colab": {
          "base_uri": "https://localhost:8080/"
        },
        "id": "d3fdfc2a",
        "outputId": "da5efefe-1463-48d9-bf39-746852743738"
      },
      "outputs": [
        {
          "output_type": "stream",
          "name": "stdout",
          "text": [
            "Quantos jogos foram realizados?: 4\n",
            "Gols do Galo: 2\n",
            "Gols do Adversário: 0\n",
            "Gols do Galo: 1\n",
            "Gols do Adversário: 1\n",
            "Gols do Galo: 0\n",
            "Gols do Adversário: 3\n",
            "Gols do Galo: 1\n",
            "Gols do Adversário: 0\n",
            "Vitorias: 2\n",
            " Empates: 1\n",
            " Derrotas: 1\n",
            " Pontuação: 7\n"
          ]
        }
      ],
      "source": [
        "jogos = int(input(\"Quantos jogos foram realizados?: \"))\n",
        "empate, vitoria, derrota = 0, 0, 0\n",
        "\n",
        "\n",
        "for i in range(jogos):\n",
        "  gols_galo = int(input(\"Gols do Galo: \"))\n",
        "  gols_adv = int(input(\"Gols do Adversário: \"))\n",
        "\n",
        "  if gols_galo == gols_adv:\n",
        "    empate += 1\n",
        "  elif gols_galo > gols_adv:\n",
        "    vitoria += 1\n",
        "  else:\n",
        "    derrota += 1\n",
        "\n",
        "pontuacao = (vitoria*3)+empate\n",
        "print(f\" Vitorias: {vitoria}\\n Empates: {empate}\\n Derrotas: {derrota}\\n Pontuação: {pontuacao}\")\n",
        "\n"
      ]
    },
    {
      "cell_type": "markdown",
      "id": "fc98604d",
      "metadata": {
        "id": "fc98604d"
      },
      "source": [
        "### Q5.\n",
        "\n",
        "Faça um programa que lê dois inteiros N e M, e imprime na tela um campo de batalha naval. O tabuleiro deve possuir N linhas e M colunas. A primeira linha é composta por um espaço em branco e o cabeçalho das colunas, ou seja, valores de 1 a M. As N linhas seguintes iniciam com o cabeçalho da linha, ou seja, seu número, seguido de M caracteres \"/\" (barra) indicando uma possível posição jogável.\n",
        "\n",
        "```\n",
        "Entrada:\n",
        "5\n",
        "4\n",
        "\n",
        "Saída:\n",
        "  1 2 3 4\n",
        "1 / / / /\n",
        "2 / / / /\n",
        "3 / / / /\n",
        "4 / / / /\n",
        "5 / / / /\n",
        "```\n",
        "\n",
        "Para esse exercício, precisamos lembrar que o comando print implicitamente adiciona uma quebra de linha ao final da impressão. Podemos interferir no final da impressão adicionando mais uma entrada ao print. No exemplo, finalizamos cada linha com um espaço em branco:\n",
        "```python\n",
        "print(\"Texto qualquer\", end = \" \")\n",
        "```"
      ]
    },
    {
      "cell_type": "code",
      "execution_count": 65,
      "id": "a60ef197",
      "metadata": {
        "id": "a60ef197",
        "colab": {
          "base_uri": "https://localhost:8080/"
        },
        "outputId": "af12d061-11f1-498c-9f82-5f6a747847a2"
      },
      "outputs": [
        {
          "output_type": "stream",
          "name": "stdout",
          "text": [
            "Digite a quantidade de linhas: 5\n",
            "Digite a quantidade de colunas: 5\n",
            "/ / / / / \n",
            "\n",
            "/ / / / / \n",
            "\n",
            "/ / / / / \n",
            "\n",
            "/ / / / / \n",
            "\n",
            "/ / / / / \n",
            "\n"
          ]
        }
      ],
      "source": [
        "linha = int(input(\"Digite a quantidade de linhas: \"))\n",
        "coluna = int((input(\"Digite a quantidade de colunas: \")))\n",
        "\n",
        "for i in range(linha):\n",
        "  for j in range(coluna):\n",
        "    print(\"/\", end = \" \")\n",
        "  print(\"\\n\")\n",
        ""
      ]
    },
    {
      "cell_type": "markdown",
      "id": "4654dc0b",
      "metadata": {
        "id": "4654dc0b"
      },
      "source": [
        "---\n",
        "## Break e Continue"
      ]
    },
    {
      "cell_type": "markdown",
      "id": "24fe9d85",
      "metadata": {
        "id": "24fe9d85"
      },
      "source": [
        "### Q6.\n",
        "\n",
        "Escreva um programa que lê uma quantidade indefinida de valores e informa o maior e o menor valor digitados. A leitura é encerrada quando o usuário digitar o valor 0 (zero).\n",
        "\n",
        "```\n",
        "Entrada:\n",
        "12\n",
        "-1\n",
        "29\n",
        "11\n",
        "-5\n",
        "0\n",
        "\n",
        "Saída:\n",
        "Maior: 29\n",
        "Menor: -5\n",
        "```"
      ]
    },
    {
      "cell_type": "code",
      "execution_count": 33,
      "id": "ee1c466a",
      "metadata": {
        "id": "ee1c466a",
        "colab": {
          "base_uri": "https://localhost:8080/"
        },
        "outputId": "2ddfd59d-4ee3-469d-d90d-249f25479ee4"
      },
      "outputs": [
        {
          "output_type": "stream",
          "name": "stdout",
          "text": [
            "Entre com o valor: 5\n",
            "Entre com o valor: 10\n",
            "Entre com o valor: -5\n",
            "Entre com o valor: 0\n",
            "Maior: 10\n",
            " Menor: -5\n"
          ]
        }
      ],
      "source": [
        "valor = int(input(\"Entre com o valor: \"))\n",
        "\n",
        "\n",
        "if valor != 0:\n",
        "  maior, menor = valor, valor\n",
        "  while True:\n",
        "    if valor > maior:\n",
        "      maior = valor\n",
        "    if valor < menor:\n",
        "      menor = valor\n",
        "    valor = int(input(\"Entre com o valor: \"))\n",
        "    if valor != 0: continue\n",
        "    if valor == 0:break\n",
        "\n",
        "\n",
        "else:\n",
        "  print(\"Valor digitado foi 0\")\n",
        "\n",
        "print(f\"Maior: {maior}\\n Menor: {menor}\")\n"
      ]
    },
    {
      "cell_type": "markdown",
      "id": "30d486f7",
      "metadata": {
        "id": "30d486f7"
      },
      "source": [
        "\n",
        "### Q7.\n",
        "\n",
        "Escreva um programa que lê uma quantidade indefinida de valores e informa o **produto** dos valores positivos digitados. A leitura é encerrada quando o usuário digitar o valor 0 (zero).\n",
        "\n",
        "```\n",
        "Entrada:\n",
        "2\n",
        "-1\n",
        "1\n",
        "3\n",
        "-5\n",
        "0\n",
        "\n",
        "Saída:\n",
        "Produto: 6\n",
        "```"
      ]
    },
    {
      "cell_type": "code",
      "execution_count": 39,
      "id": "2f1ac324",
      "metadata": {
        "id": "2f1ac324",
        "colab": {
          "base_uri": "https://localhost:8080/"
        },
        "outputId": "3f36d286-800d-46fb-bdec-b90fc1bcaca2"
      },
      "outputs": [
        {
          "output_type": "stream",
          "name": "stdout",
          "text": [
            "Digite um valor: -5\n",
            "Digite um valor: -9\n",
            "Digite um valor: 2\n",
            "Digite um valor: -1\n",
            "Digite um valor: 1\n",
            "Digite um valor: 3\n",
            "Digite um valor: -5\n",
            "Digite um valor: 0\n",
            "Produto: 6\n"
          ]
        }
      ],
      "source": [
        "valor = int(1)\n",
        "while True:\n",
        "\n",
        "  numero = int(input(\"Digite um valor: \"))\n",
        "  if numero > 0:\n",
        "    valor *= numero\n",
        "    continue\n",
        "  if numero == 0: break\n",
        "print(f\"Produto: {valor}\")"
      ]
    },
    {
      "cell_type": "markdown",
      "id": "e932f3cf",
      "metadata": {
        "id": "e932f3cf"
      },
      "source": [
        "### Q8.\n",
        "\n",
        "Vamos fazer uma calculadora que aceita expressões aritméticas de qualquer tamanho até que o usuário digite a palavra \"Fim\". Sua calculadora executa apenas as operações \"+\", \"-\".\n",
        "\n",
        "```\n",
        "Entrada:\n",
        "5\n",
        "+\n",
        "8\n",
        "-\n",
        "3\n",
        "+\n",
        "2\n",
        "Fim\n",
        "\n",
        "Saída:\n",
        "12\n",
        "```"
      ]
    },
    {
      "cell_type": "code",
      "execution_count": 43,
      "id": "e835d870",
      "metadata": {
        "id": "e835d870",
        "colab": {
          "base_uri": "https://localhost:8080/"
        },
        "outputId": "5e251309-271d-4f73-dc07-293a7c285c55"
      },
      "outputs": [
        {
          "output_type": "stream",
          "name": "stdout",
          "text": [
            "Digite um numero: 5\n",
            "Digite o operador: *\n",
            "Operado Inválido!\n",
            "Digite o operador: +\n",
            "Digite outro numero: 8\n",
            "Digite o operador: -\n",
            "Digite outro numero: 3\n",
            "Digite o operador: +\n",
            "Digite outro numero: 2\n",
            "Digite o operador: Fim\n",
            "Total: 12\n"
          ]
        }
      ],
      "source": [
        "numero = int(input(\"Digite um numero: \"))\n",
        "\n",
        "while True:\n",
        "  op = input(\"Digite o operador: \")\n",
        "  if op == '+':\n",
        "    total = int(input(\"Digite outro numero: \"))\n",
        "    numero += total\n",
        "    continue\n",
        "  elif op == \"-\":\n",
        "    total = int(input(\"Digite outro numero: \"))\n",
        "    numero -= total\n",
        "    continue\n",
        "  elif op == \"Fim\":\n",
        "    break\n",
        "  else:\n",
        "    print(\"Operado Inválido!\")\n",
        "    continue\n",
        "\n",
        "print(f\"Total: {numero}\")"
      ]
    }
  ],
  "metadata": {
    "kernelspec": {
      "display_name": "Python 3 (ipykernel)",
      "language": "python",
      "name": "python3"
    },
    "language_info": {
      "codemirror_mode": {
        "name": "ipython",
        "version": 3
      },
      "file_extension": ".py",
      "mimetype": "text/x-python",
      "name": "python",
      "nbconvert_exporter": "python",
      "pygments_lexer": "ipython3",
      "version": "3.9.6"
    },
    "colab": {
      "provenance": []
    }
  },
  "nbformat": 4,
  "nbformat_minor": 5
}