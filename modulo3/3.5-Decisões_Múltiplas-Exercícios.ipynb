{
  "cells": [
    {
      "cell_type": "markdown",
      "id": "559687a1",
      "metadata": {
        "id": "559687a1"
      },
      "source": [
        "# Módulo 3 - Condicionais\n",
        "\n",
        "## 3.5 - Decisões Múltiplas"
      ]
    },
    {
      "cell_type": "markdown",
      "id": "42f823b3",
      "metadata": {
        "id": "42f823b3"
      },
      "source": [
        "### Q1.\n",
        "\n",
        "Vamos fazer uma calculadora! Escreva um programa que solicita 3 entradas: o primeiro operando (float), o operador (caracter) e o segundo operando (float). Seu programa deve imprimir o resultado da operação solicitada, entre soma (+), subtração (-), divisão (/), multiplicação (\\*) ou potência (\\*\\*). Seu programa também deve imprimir uma mensagem de erro se a operação solicitada não estiver dentre as opções disponíveis.\n",
        "\n",
        "Seguem alguns exemplos de interação com seu código no terminal.\n",
        "\n",
        "\n",
        "```\n",
        "Digite o primeiro operando: 5.2\n",
        "Digite o operador (+, -, /, *, **): *\n",
        "Digite o segundo operando` 3\n",
        "Resultado: 5.2 * 3.0 = 15.6\n",
        "```\n",
        "\n",
        "```\n",
        "Digite o primeiro operando: 8\n",
        "Digite o operador (+, -, /, *, **): **\n",
        "Digite o segundo operando: 2\n",
        "Resultado: 8.0 * 2.0 = 64.0\n",
        "```\n",
        "\n",
        "```\n",
        "Digite o primeiro operando: 7\n",
        "Digite o operador (+, -, /, *, **): %\n",
        "Digite o segundo operando: 3.4\n",
        "Erro! Operação inválida.\n",
        "```\n",
        "\n",
        "```\n",
        "Digite o primeiro operando: 10\n",
        "Digite o operador (+, -, /, *, **): /\n",
        "Digite o segundo operando: 2.5\n",
        "Resultado: 10.0 / 2.5 = 4.0\n",
        "```\n",
        "\n"
      ]
    },
    {
      "cell_type": "code",
      "execution_count": null,
      "id": "c5b8cd4d",
      "metadata": {
        "colab": {
          "base_uri": "https://localhost:8080/"
        },
        "id": "c5b8cd4d",
        "outputId": "955f7229-97e6-4e6b-b78d-2d21b3ce63b1"
      },
      "outputs": [
        {
          "output_type": "stream",
          "name": "stdout",
          "text": [
            "Digite o primeiro Operando: 7\n",
            "Digite o operador (+, -, /, *, **): %\n",
            "Digite o segundo Operando: 3.4\n",
            "Entrada de operador inválido\n"
          ]
        }
      ],
      "source": [
        "#entradas de dados\n",
        "operando1 = float(input(\"Digite o primeiro Operando: \"))\n",
        "operador = input(\"Digite o operador (+, -, /, *, **): \")\n",
        "operando2 = float(input(\"Digite o segundo Operando: \"))\n",
        "\n",
        "#processamento de dados\n",
        "if operador =='+' or operador =='-' or operador =='/' or operador =='*' or operador =='**':\n",
        "  if operador == '+':\n",
        "    resultado = operando1 + operando2\n",
        "  elif operador == '-':\n",
        "    resultado = operando1 - operando2\n",
        "  elif operador == '/':\n",
        "    resultado = operando1 / operando2\n",
        "  elif operador == '*':\n",
        "    resultado = operando1 * operando2\n",
        "  elif operador == '**':\n",
        "    resultado = operando1 ** operando2\n",
        "  print(f\"Resultado: {operando1} {operador} {operando2} = {resultado:,.1f}\")\n",
        "else:\n",
        "  print(\"Entrada de operador inválido\")\n",
        "\n"
      ]
    },
    {
      "cell_type": "markdown",
      "id": "d135df39",
      "metadata": {
        "id": "d135df39"
      },
      "source": [
        "### Q2.\n",
        "\n",
        "Escreva um programa que leia os comprimentos dos 3 lados de um triângulo e diga se o triângulo é equilátero, isóceles ou escaleno. Regras:\n",
        "- Isóceles: Quaisquer dois lados com o mesmo comprimento\n",
        "- Equilátero: Os três lados tem o mesmo comprimento\n",
        "- Escaleno: Três lados de comprimento diferente\n",
        "\n",
        "Note que a ordem das condições importa! Seguem alguns exemplos de interação com seu código no terminal.\n",
        "\n",
        "```\n",
        "Digite o comprimento do lado 1: 4\n",
        "Digite o comprimento do lado 2: 4\n",
        "Digite o comprimento do lado 3: 6\n",
        "Triângulo: Isóceles\n",
        "```\n",
        "\n",
        "```\n",
        "Digite o comprimento do lado 1: 5\n",
        "Digite o comprimento do lado 2: 5\n",
        "Digite o comprimento do lado 3: 5\n",
        "Triângulo: Equilátero\n",
        "```\n",
        "\n",
        "```\n",
        "Digite o comprimento do lado 1: 7\n",
        "Digite o comprimento do lado 2: 4\n",
        "Digite o comprimento do lado 3: 9\n",
        "Triângulo: Escaleno\n",
        "```\n",
        "\n"
      ]
    },
    {
      "cell_type": "code",
      "execution_count": 41,
      "id": "cfcf9a80",
      "metadata": {
        "id": "cfcf9a80",
        "colab": {
          "base_uri": "https://localhost:8080/"
        },
        "outputId": "21d49ede-d372-47f7-ad6d-1c68d6f52c8d"
      },
      "outputs": [
        {
          "output_type": "stream",
          "name": "stdout",
          "text": [
            "Digite o comprimento do lado: 5\n",
            "Digite o comprimento do lado: 5\n",
            "Digite o comprimento do lado: 5\n",
            "Triangulo: Equilátero\n"
          ]
        }
      ],
      "source": [
        "lado1, lado2, lado3 = float(input(\"Digite o comprimento do lado: \")), float(input(\"Digite o comprimento do lado: \")), float(input(\"Digite o comprimento do lado: \"))\n",
        "\n",
        "if lado1 >0 and lado2>0 and lado3>0:\n",
        "  if (lado1 == lado2 and lado1 !=lado3)  or (lado2 == lado3 and lado2!=lado1) or (lado3 == lado1 and lado3!=lado2):\n",
        "    print(\"Triangulo: Isóceles\")\n",
        "\n",
        "  elif lado1 == lado2 == lado3:\n",
        "    print(\"Triangulo: Equilátero\")\n",
        "\n",
        "  elif lado1 != lado2 != lado3:\n",
        "    print(\"Triangulo: Escaleno\")\n",
        "else:\n",
        "  print(\"Valor de alguns dos lado inválido\")\n"
      ]
    },
    {
      "cell_type": "markdown",
      "id": "ed3405fb",
      "metadata": {
        "id": "ed3405fb"
      },
      "source": [
        "### Q3.\n",
        "\n",
        "Você está desenvolvendo um sistema de avaliação de desempenho para um jogo. Escreva um programa em Python que avalia a pontuação do jogador em uma missão e atribui uma classificação com base nas seguintes condições:\n",
        "\n",
        "- Se a pontuação for menor que 70, atribua a classificação \"Insatisfatório\".\n",
        "- Se a pontuação for maior ou igual a 70, atribua a classificação \"Regular\".\n",
        "- Se a pontuação for maior ou igual a 80, atribua a classificação \"Bom\".\n",
        "- Se a pontuação for maior ou igual a 90, atribua a classificação \"Excelente\".\n",
        "\n",
        "Escreva um programa que solicita ao usuário a pontuação e imprime a classificação correspondente."
      ]
    },
    {
      "cell_type": "code",
      "execution_count": 32,
      "id": "a7a842ae",
      "metadata": {
        "id": "a7a842ae",
        "colab": {
          "base_uri": "https://localhost:8080/"
        },
        "outputId": "9c6c700b-94b5-407c-f992-fe3a8caeadab"
      },
      "outputs": [
        {
          "output_type": "stream",
          "name": "stdout",
          "text": [
            "Diga a pontuação: 2\n",
            "Insatisfatório\n"
          ]
        }
      ],
      "source": [
        "pontuacao = int(input(\"Diga a pontuação: \"))\n",
        "\n",
        "if pontuacao >= 90:\n",
        "  print(\"Excelente\")\n",
        "elif pontuacao >= 80:\n",
        "  print(\"Bom\")\n",
        "elif pontuacao >= 70:\n",
        "  print(\"Regular\")\n",
        "else:\n",
        "  print(\"Insatisfatório\")"
      ]
    },
    {
      "cell_type": "markdown",
      "id": "6cafaa50",
      "metadata": {
        "id": "6cafaa50"
      },
      "source": [
        "### Q4.\n",
        "\n",
        "Você está implementando um sistema de desconto em uma loja online. Escreva um programa em Python que calcula o desconto com base no valor total da compra e atribui diferentes níveis de desconto de acordo com as seguintes condições:\n",
        "\n",
        "- Se o valor total da compra for menor que R\\$ 50, não há desconto.\n",
        "- Se o valor total da compra for maior ou igual a R\\$ 50, atribua um desconto de 10%.\n",
        "- Se o valor total da compra for maior ou igual a R\\$ 100, atribua um desconto de 20%.\n",
        "\n",
        "\n",
        "Seguem alguns exemplos de interação com seu código no terminal. Preste atenção na formatação esperada para as saídas.\n",
        "\n",
        "```\n",
        "Digite o valor total da compra: 120\n",
        "Desconto aplicado: 20.0%\n",
        "Valor final com desconto: R$96.00\n",
        "```\n",
        "\n",
        "```\n",
        "Digite o valor total da compra: 65\n",
        "Desconto aplicado: 10.0%\n",
        "Valor final com desconto: R$58.50\n",
        "```\n",
        "\n",
        "```\n",
        "Digite o valor total da compra: 40\n",
        "Desconto aplicado: 0.0%\n",
        "Valor final com desconto: R$40.00\n",
        "```\n",
        "\n",
        "\n"
      ]
    },
    {
      "cell_type": "code",
      "execution_count": 39,
      "id": "3b1b1929",
      "metadata": {
        "id": "3b1b1929",
        "colab": {
          "base_uri": "https://localhost:8080/"
        },
        "outputId": "207b8d15-e740-4009-f791-a6d113c8c5c2"
      },
      "outputs": [
        {
          "output_type": "stream",
          "name": "stdout",
          "text": [
            "Digite o valor total da compra: 40\n",
            "Desconto aplicado: 0.0% \n",
            "Valor final com desconto: R$40.00\n"
          ]
        }
      ],
      "source": [
        "valor = float(input(\"Digite o valor total da compra: \"))\n",
        "\n",
        "if valor >= 100:\n",
        "  desconto = float(0.2)\n",
        "  valor -= valor * desconto\n",
        "  print(f\"Desconto aplicado: 20.0% \\nValor final com desconto: R${valor:,.2f}\")\n",
        "elif valor >= 50:\n",
        "  desconto = float(0.1)\n",
        "  valor -= valor * desconto\n",
        "  print(f\"Desconto aplicado: 10.0% \\nValor final com desconto: R${valor:,.2f}\")\n",
        "else:\n",
        "  desconto = float(0.0)\n",
        "  print(f\"Desconto aplicado: 0.0% \\nValor final com desconto: R${valor:,.2f}\")\n"
      ]
    },
    {
      "cell_type": "markdown",
      "id": "dc5db6d7",
      "metadata": {
        "id": "dc5db6d7"
      },
      "source": [
        "### Q5.\n",
        "\n",
        "Crie um sistema de autenticação em Python. O sistema deve funcionar da\n",
        "seguinte maneira:\n",
        "\n",
        "1. Um banco de dados fictício deve ser implementado como um dicionário,\n",
        "onde a chave é o nome do usuário e o valor é uma tupla contendo a senha e\n",
        "o nível de acesso do usuário.\n",
        "\n",
        "2. O programa deve solicitar ao usuário que insira seu usuário e senha.\n",
        "\n",
        "3. O sistema deve:\n",
        "* Verificar se o login existe no banco de dados.\n",
        "* Comparar a senha fornecida com a armazenada no banco.\n",
        "* Caso as credenciais sejam válidas, exibir uma mensagem de sucesso e o nível de acesso do usuário.\n",
        "* Caso seja inválido deverá retornar mensagem: “Erro: Usuário ou\n",
        "senha inválidos.”\n",
        "* O programa deve rodar em um laço para permitir múltiplas\n",
        "tentativas de login, mas também permitir que o usuário opte por sair\n",
        "do programa.\n",
        "\n",
        "Atributos dos 3 usuários cadastrados no sistema (usuário, senha e nível)\n",
        "\n",
        "1) admin – admin123 – Administrador\n",
        "2) usuario1 – senha123 – Usuário Comum\n",
        "3) visitante1 – guest2024 – Visitante"
      ]
    },
    {
      "cell_type": "code",
      "execution_count": null,
      "id": "b90304eb",
      "metadata": {
        "id": "b90304eb"
      },
      "outputs": [],
      "source": []
    }
  ],
  "metadata": {
    "kernelspec": {
      "display_name": "Python 3 (ipykernel)",
      "language": "python",
      "name": "python3"
    },
    "language_info": {
      "codemirror_mode": {
        "name": "ipython",
        "version": 3
      },
      "file_extension": ".py",
      "mimetype": "text/x-python",
      "name": "python",
      "nbconvert_exporter": "python",
      "pygments_lexer": "ipython3",
      "version": "3.9.6"
    },
    "colab": {
      "provenance": []
    }
  },
  "nbformat": 4,
  "nbformat_minor": 5
}