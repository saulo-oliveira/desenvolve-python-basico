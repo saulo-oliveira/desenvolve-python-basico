{
  "cells": [
    {
      "cell_type": "markdown",
      "id": "a9d28135",
      "metadata": {
        "id": "a9d28135"
      },
      "source": [
        "# Módulo 2\n",
        "## 2.1 Variáveis\n",
        "\n",
        "### Q1.\n",
        "Selecione todos os itens a seguir que contém nomes válidos de variáveis. Lembre-se que alguns nomes com estrutura válida são palavras reservadas da linguagem e portanto não podem nomear variáveis.\n",
        "\n",
        "    a) **nome_completo**\n",
        "    b) quantidade@produtos\n",
        "    c) **idade**\n",
        "    d) soma idades\n",
        "    e) **MediaNotas**\n",
        "    f) **_tipo**\n",
        "    g) 2total\n",
        "    h) lambda"
      ]
    },
    {
      "cell_type": "code",
      "execution_count": 2,
      "id": "23ab7106",
      "metadata": {
        "id": "23ab7106",
        "colab": {
          "base_uri": "https://localhost:8080/"
        },
        "outputId": "83c78af1-28f8-4f8e-c537-60e8840d02a1"
      },
      "outputs": [
        {
          "output_type": "stream",
          "name": "stdout",
          "text": [
            "a b c \n"
          ]
        }
      ],
      "source": [
        "# Preencha o print com as alternativas corretas\n",
        "# separadas por espaços em branco.\n",
        "# Ex: print(\"a b c\")\n",
        "print(\"a b c \")"
      ]
    },
    {
      "cell_type": "markdown",
      "id": "f56d2b28",
      "metadata": {
        "id": "f56d2b28"
      },
      "source": [
        "---\n",
        "### Q2.\n",
        "Dados os scripts a seguir, faça:\n",
        "- Para os scripts corretos escreva o resultado impresso ao final da execução\n",
        "- Para os incorretos descreva todos os erros identificados apontando a linha onde cada erro acontece.\n"
      ]
    },
    {
      "cell_type": "markdown",
      "id": "a2f2461b",
      "metadata": {
        "id": "a2f2461b"
      },
      "source": [
        "```python\n",
        "# Script 1\n",
        "x = 10\n",
        "y = x + 2\n",
        "print(y - 5)\n",
        "```"
      ]
    },
    {
      "cell_type": "code",
      "execution_count": null,
      "id": "4371ac7b",
      "metadata": {
        "id": "4371ac7b"
      },
      "outputs": [],
      "source": [
        "# preencha o print com sua resposta\n",
        "print(\" 7 \")"
      ]
    },
    {
      "cell_type": "markdown",
      "id": "b38baa9c",
      "metadata": {
        "id": "b38baa9c"
      },
      "source": [
        "```python\n",
        "# Script 2\n",
        "soma = n1 + n2\n",
        "print(soma)\n",
        "```"
      ]
    },
    {
      "cell_type": "code",
      "execution_count": null,
      "id": "82b5064b",
      "metadata": {
        "id": "82b5064b"
      },
      "outputs": [],
      "source": [
        "# preencha o print com sua resposta\n",
        "print(\"\")\n",
        "\n",
        "#não funcionará pois as variáveis n1 e n2 não estão definidas"
      ]
    },
    {
      "cell_type": "markdown",
      "id": "c2f3ab7a",
      "metadata": {
        "id": "c2f3ab7a"
      },
      "source": [
        "```python\n",
        "# Script 3\n",
        "a = 10\n",
        "a = a + 1\n",
        "print(a)\n",
        "```"
      ]
    },
    {
      "cell_type": "code",
      "execution_count": null,
      "id": "7b9db0c7",
      "metadata": {
        "id": "7b9db0c7"
      },
      "outputs": [],
      "source": [
        "# preencha o print com sua resposta\n",
        "print(\" 11 \")"
      ]
    },
    {
      "cell_type": "markdown",
      "id": "dd40d2c9",
      "metadata": {
        "id": "dd40d2c9"
      },
      "source": [
        "```python\n",
        "# Script 4\n",
        "saldo da conta = 1500\n",
        "0.1 = juros\n",
        "print(saldo da conta * juros)\n",
        "```"
      ]
    },
    {
      "cell_type": "code",
      "execution_count": null,
      "id": "2dec64ac",
      "metadata": {
        "id": "2dec64ac"
      },
      "outputs": [],
      "source": [
        "# preencha o print com sua resposta\n",
        "print(\"\")\n",
        "\n",
        "#script errado pois a variável deveria ser juros recebendo o 0.1 e a variaveis saldo da conta nao deveria conter espacos"
      ]
    },
    {
      "cell_type": "markdown",
      "id": "9ba1f2a8",
      "metadata": {
        "id": "9ba1f2a8"
      },
      "source": [
        "---\n",
        "### Q3.\n",
        "Declare três variáveis, `num1`, `num2` e `num3`, com valores inteiros numéricos de sua escolha. Calcule e imprima a média desses três números. Utilize a fórmula: `(num1 + num2 + num3) / 3`."
      ]
    },
    {
      "cell_type": "code",
      "execution_count": 3,
      "id": "e1963351",
      "metadata": {
        "id": "e1963351",
        "colab": {
          "base_uri": "https://localhost:8080/"
        },
        "outputId": "12cb022f-ced0-49d6-d43f-ebcf296f00d1"
      },
      "outputs": [
        {
          "output_type": "stream",
          "name": "stdout",
          "text": [
            "7.0\n"
          ]
        }
      ],
      "source": [
        "num1 = 5\n",
        "num2 = 10\n",
        "num3 = 6\n",
        "\n",
        "media =  (num1 + num2 + num3) / 3\n",
        "\n",
        "print(media)\n"
      ]
    },
    {
      "cell_type": "markdown",
      "id": "7940ba20",
      "metadata": {
        "id": "7940ba20"
      },
      "source": [
        "---\n",
        "### Q4.\n",
        "Escreva um script python que:\n",
        "- Armazene em uma variável uma velocidade de 90 km/h\n",
        "- Calcule e armazene o equivalente em m/s\n",
        "    - Divida o valor original por 3.6 para obter o resultado em m/s. Em python a sintaxe da divisão e atribuição é c = a / b\n",
        "- Imprima na tela a velocidade o resultado m/s\n"
      ]
    },
    {
      "cell_type": "code",
      "execution_count": 9,
      "id": "dd4fe7ae",
      "metadata": {
        "id": "dd4fe7ae",
        "colab": {
          "base_uri": "https://localhost:8080/"
        },
        "outputId": "e27c35af-2380-4d46-b93e-c67e195ad289"
      },
      "outputs": [
        {
          "output_type": "stream",
          "name": "stdout",
          "text": [
            "Sua velocidade em m/s eh: 25.0 m/s\n"
          ]
        }
      ],
      "source": [
        "velocidade = 90\n",
        "ms=velocidade/3.6\n",
        "\n",
        "print(\"Sua velocidade em m/s eh:\", ms,\"m/s\")\n"
      ]
    },
    {
      "cell_type": "markdown",
      "id": "cc714a42",
      "metadata": {
        "id": "cc714a42"
      },
      "source": [
        "---\n",
        "### Q5.\n",
        "Escreva um script python que:\n",
        "- Armazene o seu nome em uma variável\n",
        "    - Dica: para armazenar textos em variáveis basta colocar a palavra desejada entre aspas, ex: \"Camila\", à direita do operador de atribuição.\n",
        "- Imprima o texto \"Meu nome é:\"\n",
        "- Imprima a variável com seu nome\n"
      ]
    },
    {
      "cell_type": "code",
      "execution_count": 10,
      "id": "10a6a794",
      "metadata": {
        "id": "10a6a794",
        "colab": {
          "base_uri": "https://localhost:8080/"
        },
        "outputId": "cee160c9-545c-4559-dc2a-877c4d51cbff"
      },
      "outputs": [
        {
          "output_type": "stream",
          "name": "stdout",
          "text": [
            "Meu nome eh Saulo\n"
          ]
        }
      ],
      "source": [
        "nome = \"Saulo\"\n",
        "\n",
        "print(\"Meu nome eh\", nome)"
      ]
    }
  ],
  "metadata": {
    "kernelspec": {
      "display_name": "Python 3 (ipykernel)",
      "language": "python",
      "name": "python3"
    },
    "language_info": {
      "codemirror_mode": {
        "name": "ipython",
        "version": 3
      },
      "file_extension": ".py",
      "mimetype": "text/x-python",
      "name": "python",
      "nbconvert_exporter": "python",
      "pygments_lexer": "ipython3",
      "version": "3.9.6"
    },
    "colab": {
      "provenance": []
    }
  },
  "nbformat": 4,
  "nbformat_minor": 5
}