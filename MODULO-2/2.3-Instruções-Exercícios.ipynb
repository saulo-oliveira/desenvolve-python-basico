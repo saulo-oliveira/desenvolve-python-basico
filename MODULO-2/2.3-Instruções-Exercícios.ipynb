{
  "nbformat": 4,
  "nbformat_minor": 0,
  "metadata": {
    "colab": {
      "provenance": []
    },
    "kernelspec": {
      "name": "python3",
      "display_name": "Python 3"
    },
    "language_info": {
      "name": "python"
    }
  },
  "cells": [
    {
      "cell_type": "markdown",
      "source": [
        "# Módulo 2\n",
        "\n",
        "## 2.3 Instruções e Expressões\n",
        "\n",
        "### Q1\n",
        "\n",
        "Faça um programa que armazene o valor de 20 reais de salário por hora de um trabalhador, e o número de 40 horas trabalhadas na semana. Com essas informações, calcule e imprima:\n",
        "- Salário semanal bruto\n",
        "- Valor descontado por semana INSS (10% do bruto)\n",
        "- Valor descontado por semana pelo sindicato (5% do bruto)\n",
        "- Salário semanal líquido (Bruto - Descontos)"
      ],
      "metadata": {
        "id": "1pCTdOHonv5f"
      }
    },
    {
      "cell_type": "code",
      "execution_count": 1,
      "metadata": {
        "id": "hVbX0I97nj6M",
        "colab": {
          "base_uri": "https://localhost:8080/"
        },
        "outputId": "89580275-22ac-4bd6-de38-5c8424e220b2"
      },
      "outputs": [
        {
          "output_type": "stream",
          "name": "stdout",
          "text": [
            "Seu salário bruto da semana é:  800\n",
            "O valor descontado do INSS é:  80.0\n",
            "O valor descontado pelo Sindicato é:  40.0\n",
            "O seu salário líquido é:  680.0\n"
          ]
        }
      ],
      "source": [
        "salario_hora=20\n",
        "horas_trabalhadas=40\n",
        "\n",
        "salario_semanal_bruto=salario_hora*horas_trabalhadas\n",
        "print(\"Seu salário bruto da semana é: \",salario_semanal_bruto)\n",
        "\n",
        "valor_inss=salario_semanal_bruto*0.1\n",
        "print(\"O valor descontado do INSS é: \", valor_inss)\n",
        "\n",
        "valor_sindicato=salario_semanal_bruto*0.05\n",
        "print(\"O valor descontado pelo Sindicato é: \", valor_sindicato)\n",
        "\n",
        "salario_semanal_liquido=salario_semanal_bruto-valor_inss-valor_sindicato\n",
        "print(\"O seu salário líquido é: \", salario_semanal_liquido)\n",
        "\n"
      ]
    },
    {
      "cell_type": "markdown",
      "source": [
        "### Q2\n",
        "\n",
        "Altere o programa anterior para a partir dos valores de horas trabalhadas por semana e salário por hora, calcular **em somente duas instruções**:\n",
        "- Salário semanal bruto\n",
        "- Salário semanal líquido com todos os descontos. Para a segunda instrução, realize todos os cálculos aritméticos em uma expressão composta.\n"
      ],
      "metadata": {
        "id": "pIxKX9J2oGZ1"
      }
    },
    {
      "cell_type": "code",
      "source": [
        "salario_hora=20\n",
        "horas_trabalhadas=40\n",
        "\n",
        "salario_semanal_bruto=salario_hora*horas_trabalhadas\n",
        "print(\"Seu salário bruto da semana é: \",salario_semanal_bruto)\n",
        "\n",
        "salario_semanal_liquido=salario_semanal_bruto - (salario_semanal_bruto*0.1) - (salario_semanal_bruto*0.05)\n",
        "print(\"O seu salário líquido é: \", salario_semanal_liquido)"
      ],
      "metadata": {
        "id": "pAHw9Xf9oGoi",
        "colab": {
          "base_uri": "https://localhost:8080/"
        },
        "outputId": "49025a1c-43c6-4bfa-caf1-adfbffc989a6"
      },
      "execution_count": 2,
      "outputs": [
        {
          "output_type": "stream",
          "name": "stdout",
          "text": [
            "Seu salário bruto da semana é:  800\n",
            "O seu salário líquido é:  680.0\n"
          ]
        }
      ]
    },
    {
      "cell_type": "markdown",
      "source": [
        "### Q3\n",
        "\n",
        "Você está desenvolvendo um software de conversão de moeda e precisa calcular o valor equivalente em yuan chinês a partir de uma quantia em real. A taxa de câmbio é de 0.69 BRL (real) para 1 CNY (yuan). Escreva um programa que define em uma variável uma quantia em reais (BRL) e calcula o valor equivalente em yuan (CNY). Imprima o resultado."
      ],
      "metadata": {
        "id": "m8tlHRuWpBOB"
      }
    },
    {
      "cell_type": "code",
      "source": [
        "valor_real=500\n",
        "\n",
        "conversao=valor_real/0.69\n",
        "\n",
        "print(\"Seu dinheiro vale\", conversao, \"CNY\")"
      ],
      "metadata": {
        "id": "2bPw7uF6oeL9",
        "colab": {
          "base_uri": "https://localhost:8080/"
        },
        "outputId": "8204ee8b-2a37-42e2-b9de-b32d0e56a944"
      },
      "execution_count": 15,
      "outputs": [
        {
          "output_type": "stream",
          "name": "stdout",
          "text": [
            "Seu dinheiro vale 724.6376811594204 CNY\n"
          ]
        }
      ]
    },
    {
      "cell_type": "markdown",
      "source": [
        "### Q4\n",
        "\n",
        "Você é um treinador de corrida e deseja calcular a velocidade média que um atleta precisa manter para completar a Maratona Internacional de São Silvestre, que tem uma distância total de 42.195 km. A fórmula para calcular a velocidade média ($v\\_media$) é dada por $v\\_media = \\frac{distancia}{tempo}$ . Escreva um programa em Python para calcular a velocidade média necessária para completar a maratona em 3 horas.\n",
        "\n",
        "**Calcule e imprima o resultado em metros/segundo**, ou seja, converta a distância de quilômetros para metros ($metro = \\frac{km}{1000}$) e a velocidade de horas para segundos $(segundo = \\frac{hora}{3600})$."
      ],
      "metadata": {
        "id": "-Na3ltDCp74A"
      }
    },
    {
      "cell_type": "code",
      "source": [
        "distancia=42.195\n",
        "distancia_metro=42.195*1000\n",
        "tempo=3\n",
        "tempo_segundos=3*3600\n",
        "\n",
        "v_media=distancia_metro/tempo_segundos\n",
        "print(\"A velocidade média será de\", v_media, \"m/s\")"
      ],
      "metadata": {
        "id": "Bn6l8kcSrE4L",
        "colab": {
          "base_uri": "https://localhost:8080/"
        },
        "outputId": "376025a7-2f6a-4c70-e51b-38363bfdb42c"
      },
      "execution_count": 7,
      "outputs": [
        {
          "output_type": "stream",
          "name": "stdout",
          "text": [
            "A velocidade média será de 3.9069444444444446 m/s\n"
          ]
        }
      ]
    }
  ]
}